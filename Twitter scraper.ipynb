{
 "cells": [
  {
   "cell_type": "code",
   "execution_count": 8,
   "metadata": {},
   "outputs": [],
   "source": [
    "import tweepy\n",
    "from tweepy import Stream\n",
    "from tweepy import OAuthHandler\n",
    "from tweepy.streaming import StreamListener\n",
    "import time\n",
    "import pandas as pd\n",
    "import numpy as np\n",
    "import datetime"
   ]
  },
  {
   "cell_type": "code",
   "execution_count": 9,
   "metadata": {},
   "outputs": [],
   "source": [
    "#J\n",
    "consumer_key = 'awImzJ7cQtYMj5jbeeWenLe8R'\n",
    "consumer_secret = 'Rnr5qv5DRlhelrLPyF1j1AWLi5aE139k1nd074gaiiEOXiHZfi'\n",
    "access_token = '999278084774866945-KxBvG48iodCgSj5tDS1El5u7r2lAXX8'\n",
    "access_secret = 'AXGP5SHhpbJuCLVNbRU5yh6fOIwvxLTZOVdBWysWYbG6L'"
   ]
  },
  {
   "cell_type": "code",
   "execution_count": 13,
   "metadata": {},
   "outputs": [],
   "source": [
    "#R\n",
    "consumer_key = 'qbKANPvBND4cDKzRy7dVv7tFM'\n",
    "consumer_secret = '9GgohQQOuujfVB90csXGHakbI4wnht09DxwqF0Tc6Qjh21U9uc'\n",
    "access_token = '999278723659632641-J2BeDRgUL6pyXgxHWA0pscDPuKLALar'\n",
    "access_secret = '7bdrHnvtEnVSXc71llbbONW8DMLmCw62Mp6FuSjk8rq3u'"
   ]
  },
  {
   "cell_type": "code",
   "execution_count": 21,
   "metadata": {},
   "outputs": [],
   "source": [
    "#R2\n",
    "consumer_key = 'lkJEhnBhutbMfUoJnH0BIQyqD'\n",
    "consumer_secret = 'v1cbGUgzUGi4q0TAiBhB53pglnJCAcVKv9T12Ftz4ANLGZdkmp'\n",
    "access_token = '999278723659632641-2mgorBfuXIXYODLzYU6fX43EfT2qFNi'\n",
    "access_secret = 'ffVohG14AR0zMrudA60S49X9Y0vZjzUUj4xMScOTmMb6B'"
   ]
  },
  {
   "cell_type": "code",
   "execution_count": 137,
   "metadata": {},
   "outputs": [],
   "source": [
    "#R3\n",
    "consumer_key = 'IYifTIDZ1tlcUu1vdPmI2wMYm'\n",
    "consumer_secret = 'QaxzTwaECgGugwFb4VHl2aGOSPDcgAo0hNVG0je3gpZ2rbsjCp'\n",
    "access_token = '999278723659632641-AEQAFJdwVVBpMa4SsXLqRN34Fud0bQJ'\n",
    "access_secret = 'KwdGZYFMRuoZ8uHlJNghqMVHscMBEaMl9k1uzlFbUxIKn'"
   ]
  },
  {
   "cell_type": "code",
   "execution_count": 10,
   "metadata": {},
   "outputs": [],
   "source": [
    "class listener(StreamListener):\n",
    "    \n",
    "    def on_data(self, data):\n",
    "        try:\n",
    "            #print(data)\n",
    "            \n",
    "            tweet = data.split(',\"text\":\"')[1].split('\",\"')[0]\n",
    "            lang = data.split(',\"lang\":\"')[1].split('\",\"')[0]\n",
    "            location = data.split(',\"location\":\"')[1].split('\",\"')[0]\n",
    "            \n",
    "            saveThis = str(time.time())+'::'+tweet+'::'+lang+\"::\"+location\n",
    "            print(saveThis)\n",
    "            '''\n",
    "            saveFile = open('worldcup2018_2.csv', 'a')\n",
    "            saveFile.write(saveThis)\n",
    "            saveFile.write('\\n')\n",
    "            saveFile.close()\n",
    "            '''\n",
    "            return True\n",
    "        except(BaseException, e):\n",
    "            print('failed on data', str(e))\n",
    "            time.sleep(5)\n",
    "        \n",
    "    def on_error(self,status):\n",
    "        print(status)"
   ]
  },
  {
   "cell_type": "code",
   "execution_count": 11,
   "metadata": {
    "scrolled": false
   },
   "outputs": [
    {
     "name": "stdout",
     "output_type": "stream",
     "text": [
      "1527682506.1137524::2018 World Cup: Rohr cuts down Super Eagles  squad via @@news24extra https:\\/\\/t.co\\/6dV4lY2uFS::en::Abuja, Nigeria\n",
      "1527682509.5275702::RT @Buzz04App: Im Interview f\\u00fcr @SkySportDE hat Huub #Stevens mit @Sky_Dirk \\u00fcber die #WM2018, @Manuel_Neuer, die #S04MV18, Transfers und Do\\u2026::de::#S04 #BVB #VfL #MSV #RWE \n",
      "1527682509.6415505::RT @fifaworldcup_de: \\ud83c\\udfdf\\ufe0f\\ud83d\\ude0d Das Kaliningrad Stadium sieht gut aus \\ud83d\\udc4c  \\n\\nIn dieser Arena wird genau heute in vier Monaten das #WM2018-Gruppenspi\\u2026::pt::SC\n",
      "1527682518.2294133::RT @realOttoNormal: #Bereicherung?\\n\\n#Multikulti?\\n\\n#WertvolleralsGold?\\n\\n#ReligiondesFriedens?\\n\\n#RefugeesWelcome?\\n\\n N E I N !!!\\n\\nDas ist die\\u2026::de::Merkel-Deutschland, Packistan\n",
      "1527682528.809381::Racist, anti-gay chants on rise in Russia ahead of World\\u00a0Cup https:\\/\\/t.co\\/7DZcSVSS1b::en::Ontario, CA\n",
      "1527682531.4362378::Me Toca MESSI en FIFA WORLD CUP RUSSIA 2018 ULTIMATE TEAM: https:\\/\\/t.co\\/S3JZFrnV2q v\\u00eda @YouTube::es::Mieres, Espa\\u00f1a\n",
      "1527682534.9046109::RT @buddies_cb: Having same shoes be like \\ud83d\\ude02\\n&lt;Offset isn't dead &gt;\\ud83d\\ude02\\n#TravelTuesday \\n#TrendingSA \\n#Russia2018WorldCup \\n#TheQueenMzansi \\n@fash_\\u2026::en::Mount Frere , South Africa\n"
     ]
    },
    {
     "ename": "RuntimeError",
     "evalue": "No active exception to reraise",
     "output_type": "error",
     "traceback": [
      "\u001b[1;31m---------------------------------------------------------------------------\u001b[0m",
      "\u001b[1;31mRuntimeError\u001b[0m                              Traceback (most recent call last)",
      "\u001b[1;32m<ipython-input-11-dc0725903ae6>\u001b[0m in \u001b[0;36m<module>\u001b[1;34m()\u001b[0m\n\u001b[0;32m      2\u001b[0m \u001b[0mauth\u001b[0m\u001b[1;33m.\u001b[0m\u001b[0mset_access_token\u001b[0m\u001b[1;33m(\u001b[0m\u001b[0maccess_token\u001b[0m\u001b[1;33m,\u001b[0m \u001b[0maccess_secret\u001b[0m\u001b[1;33m)\u001b[0m\u001b[1;33m\u001b[0m\u001b[0m\n\u001b[0;32m      3\u001b[0m \u001b[0mtwitterStream\u001b[0m \u001b[1;33m=\u001b[0m \u001b[0mStream\u001b[0m\u001b[1;33m(\u001b[0m\u001b[0mauth\u001b[0m\u001b[1;33m,\u001b[0m \u001b[0mlistener\u001b[0m\u001b[1;33m(\u001b[0m\u001b[1;33m)\u001b[0m\u001b[1;33m)\u001b[0m\u001b[1;33m\u001b[0m\u001b[0m\n\u001b[1;32m----> 4\u001b[1;33m \u001b[0mtwitterStream\u001b[0m\u001b[1;33m.\u001b[0m\u001b[0mfilter\u001b[0m\u001b[1;33m(\u001b[0m\u001b[0mtrack\u001b[0m\u001b[1;33m=\u001b[0m\u001b[1;33m[\u001b[0m\u001b[1;34m\"FIFAFanFest\"\u001b[0m\u001b[1;33m,\u001b[0m\u001b[1;34m\"WM2018\"\u001b[0m\u001b[1;33m,\u001b[0m\u001b[1;34m\"Russia2018WorldCup\"\u001b[0m\u001b[1;33m,\u001b[0m\u001b[1;34m\"World Cup 2018 Russia\"\u001b[0m\u001b[1;33m]\u001b[0m\u001b[1;33m)\u001b[0m\u001b[1;33m\u001b[0m\u001b[0m\n\u001b[0m",
      "\u001b[1;32m~\\AppData\\Local\\Continuum\\anaconda3\\lib\\site-packages\\tweepy\\streaming.py\u001b[0m in \u001b[0;36mfilter\u001b[1;34m(self, follow, track, async, locations, stall_warnings, languages, encoding)\u001b[0m\n\u001b[0;32m    426\u001b[0m         \u001b[0mself\u001b[0m\u001b[1;33m.\u001b[0m\u001b[0msession\u001b[0m\u001b[1;33m.\u001b[0m\u001b[0mparams\u001b[0m \u001b[1;33m=\u001b[0m \u001b[1;33m{\u001b[0m\u001b[1;34m'delimited'\u001b[0m\u001b[1;33m:\u001b[0m \u001b[1;34m'length'\u001b[0m\u001b[1;33m}\u001b[0m\u001b[1;33m\u001b[0m\u001b[0m\n\u001b[0;32m    427\u001b[0m         \u001b[0mself\u001b[0m\u001b[1;33m.\u001b[0m\u001b[0mhost\u001b[0m \u001b[1;33m=\u001b[0m \u001b[1;34m'stream.twitter.com'\u001b[0m\u001b[1;33m\u001b[0m\u001b[0m\n\u001b[1;32m--> 428\u001b[1;33m         \u001b[0mself\u001b[0m\u001b[1;33m.\u001b[0m\u001b[0m_start\u001b[0m\u001b[1;33m(\u001b[0m\u001b[0masync\u001b[0m\u001b[1;33m)\u001b[0m\u001b[1;33m\u001b[0m\u001b[0m\n\u001b[0m\u001b[0;32m    429\u001b[0m \u001b[1;33m\u001b[0m\u001b[0m\n\u001b[0;32m    430\u001b[0m     def sitestream(self, follow, stall_warnings=False,\n",
      "\u001b[1;32m~\\AppData\\Local\\Continuum\\anaconda3\\lib\\site-packages\\tweepy\\streaming.py\u001b[0m in \u001b[0;36m_start\u001b[1;34m(self, async)\u001b[0m\n\u001b[0;32m    344\u001b[0m             \u001b[0mself\u001b[0m\u001b[1;33m.\u001b[0m\u001b[0m_thread\u001b[0m\u001b[1;33m.\u001b[0m\u001b[0mstart\u001b[0m\u001b[1;33m(\u001b[0m\u001b[1;33m)\u001b[0m\u001b[1;33m\u001b[0m\u001b[0m\n\u001b[0;32m    345\u001b[0m         \u001b[1;32melse\u001b[0m\u001b[1;33m:\u001b[0m\u001b[1;33m\u001b[0m\u001b[0m\n\u001b[1;32m--> 346\u001b[1;33m             \u001b[0mself\u001b[0m\u001b[1;33m.\u001b[0m\u001b[0m_run\u001b[0m\u001b[1;33m(\u001b[0m\u001b[1;33m)\u001b[0m\u001b[1;33m\u001b[0m\u001b[0m\n\u001b[0m\u001b[0;32m    347\u001b[0m \u001b[1;33m\u001b[0m\u001b[0m\n\u001b[0;32m    348\u001b[0m     \u001b[1;32mdef\u001b[0m \u001b[0mon_closed\u001b[0m\u001b[1;33m(\u001b[0m\u001b[0mself\u001b[0m\u001b[1;33m,\u001b[0m \u001b[0mresp\u001b[0m\u001b[1;33m)\u001b[0m\u001b[1;33m:\u001b[0m\u001b[1;33m\u001b[0m\u001b[0m\n",
      "\u001b[1;32m~\\AppData\\Local\\Continuum\\anaconda3\\lib\\site-packages\\tweepy\\streaming.py\u001b[0m in \u001b[0;36m_run\u001b[1;34m(self)\u001b[0m\n\u001b[0;32m    284\u001b[0m             \u001b[1;31m# call a handler first so that the exception can be logged.\u001b[0m\u001b[1;33m\u001b[0m\u001b[1;33m\u001b[0m\u001b[0m\n\u001b[0;32m    285\u001b[0m             \u001b[0mself\u001b[0m\u001b[1;33m.\u001b[0m\u001b[0mlistener\u001b[0m\u001b[1;33m.\u001b[0m\u001b[0mon_exception\u001b[0m\u001b[1;33m(\u001b[0m\u001b[0mexception\u001b[0m\u001b[1;33m)\u001b[0m\u001b[1;33m\u001b[0m\u001b[0m\n\u001b[1;32m--> 286\u001b[1;33m             \u001b[1;32mraise\u001b[0m\u001b[1;33m\u001b[0m\u001b[0m\n\u001b[0m\u001b[0;32m    287\u001b[0m \u001b[1;33m\u001b[0m\u001b[0m\n\u001b[0;32m    288\u001b[0m     \u001b[1;32mdef\u001b[0m \u001b[0m_data\u001b[0m\u001b[1;33m(\u001b[0m\u001b[0mself\u001b[0m\u001b[1;33m,\u001b[0m \u001b[0mdata\u001b[0m\u001b[1;33m)\u001b[0m\u001b[1;33m:\u001b[0m\u001b[1;33m\u001b[0m\u001b[0m\n",
      "\u001b[1;31mRuntimeError\u001b[0m: No active exception to reraise"
     ]
    }
   ],
   "source": [
    "auth = OAuthHandler(consumer_key, consumer_secret)\n",
    "auth.set_access_token(access_token, access_secret)\n",
    "twitterStream = Stream(auth, listener())\n",
    "twitterStream.filter(track=[\"FIFAFanFest\",\"WM2018\",\"Russia2018WorldCup\",\"World Cup 2018 Russia\"])"
   ]
  },
  {
   "cell_type": "code",
   "execution_count": null,
   "metadata": {},
   "outputs": [],
   "source": [
    "worldcup_csv_file = pd.read_csv(\"worldcup2018_2.csv\", sep='::', header = None)\n",
    "tweet = worldcup_csv_file[1]\n",
    "lang = worldcup_csv_file[2]\n",
    "location = worldcup_csv_file[3]"
   ]
  },
  {
   "cell_type": "code",
   "execution_count": 147,
   "metadata": {},
   "outputs": [],
   "source": [
    "i = 0\n",
    "list_date = []\n",
    "list_hour = []\n",
    "while i < len(worldcup_csv_file) :\n",
    "    readable = datetime.datetime.fromtimestamp(int(worldcup_csv_file[0][i])).isoformat()\n",
    "    i=i+1\n",
    "    readable = readable.split(\"T\")\n",
    "    list_date.append(readable[0])\n",
    "    list_hour.append(readable[1])\n",
    "    #print(readable)"
   ]
  },
  {
   "cell_type": "code",
   "execution_count": 116,
   "metadata": {},
   "outputs": [
    {
     "data": {
      "text/html": [
       "<div>\n",
       "<style scoped>\n",
       "    .dataframe tbody tr th:only-of-type {\n",
       "        vertical-align: middle;\n",
       "    }\n",
       "\n",
       "    .dataframe tbody tr th {\n",
       "        vertical-align: top;\n",
       "    }\n",
       "\n",
       "    .dataframe thead th {\n",
       "        text-align: right;\n",
       "    }\n",
       "</style>\n",
       "<table border=\"1\" class=\"dataframe\">\n",
       "  <thead>\n",
       "    <tr style=\"text-align: right;\">\n",
       "      <th></th>\n",
       "      <th>Date</th>\n",
       "      <th>Hour</th>\n",
       "      <th>Language</th>\n",
       "      <th>Location</th>\n",
       "      <th>Tweet</th>\n",
       "    </tr>\n",
       "  </thead>\n",
       "  <tbody>\n",
       "    <tr>\n",
       "      <th>0</th>\n",
       "      <td>2018-05-28</td>\n",
       "      <td>16:53:53</td>\n",
       "      <td>de</td>\n",
       "      <td>Hannover, Deutschland</td>\n",
       "      <td>Schweden ist ein kleines Fussballland. Doch in...</td>\n",
       "    </tr>\n",
       "    <tr>\n",
       "      <th>1</th>\n",
       "      <td>2018-05-28</td>\n",
       "      <td>16:53:58</td>\n",
       "      <td>ar</td>\n",
       "      <td>\\u062c\\u0646\\u0648\\u0628 \\u0627\\u0641\\u0631\\u0...</td>\n",
       "      <td>RT @LylaGhan: \\u0625\\u0632\\u0627\\u062d\\u0629 \\...</td>\n",
       "    </tr>\n",
       "    <tr>\n",
       "      <th>2</th>\n",
       "      <td>2018-05-28</td>\n",
       "      <td>16:54:02</td>\n",
       "      <td>en</td>\n",
       "      <td>United Kingdom</td>\n",
       "      <td>RT @EditsGk: Russia \\ud83c\\uddf7\\ud83c\\uddfa 2...</td>\n",
       "    </tr>\n",
       "    <tr>\n",
       "      <th>3</th>\n",
       "      <td>2018-05-28</td>\n",
       "      <td>16:54:25</td>\n",
       "      <td>de</td>\n",
       "      <td>weltweit</td>\n",
       "      <td>RT @karina_zuerich: WM  Nationalmannschaft- Ka...</td>\n",
       "    </tr>\n",
       "    <tr>\n",
       "      <th>4</th>\n",
       "      <td>2018-05-28</td>\n",
       "      <td>16:54:29</td>\n",
       "      <td>en</td>\n",
       "      <td>Berlin, Germany</td>\n",
       "      <td>Bestellen Sie personalisierte #Tshirts f\\u00fc...</td>\n",
       "    </tr>\n",
       "  </tbody>\n",
       "</table>\n",
       "</div>"
      ],
      "text/plain": [
       "         Date      Hour Language  \\\n",
       "0  2018-05-28  16:53:53       de   \n",
       "1  2018-05-28  16:53:58       ar   \n",
       "2  2018-05-28  16:54:02       en   \n",
       "3  2018-05-28  16:54:25       de   \n",
       "4  2018-05-28  16:54:29       en   \n",
       "\n",
       "                                            Location  \\\n",
       "0                              Hannover, Deutschland   \n",
       "1  \\u062c\\u0646\\u0648\\u0628 \\u0627\\u0641\\u0631\\u0...   \n",
       "2                                     United Kingdom   \n",
       "3                                           weltweit   \n",
       "4                                    Berlin, Germany   \n",
       "\n",
       "                                               Tweet  \n",
       "0  Schweden ist ein kleines Fussballland. Doch in...  \n",
       "1  RT @LylaGhan: \\u0625\\u0632\\u0627\\u062d\\u0629 \\...  \n",
       "2  RT @EditsGk: Russia \\ud83c\\uddf7\\ud83c\\uddfa 2...  \n",
       "3  RT @karina_zuerich: WM  Nationalmannschaft- Ka...  \n",
       "4  Bestellen Sie personalisierte #Tshirts f\\u00fc...  "
      ]
     },
     "execution_count": 116,
     "metadata": {},
     "output_type": "execute_result"
    }
   ],
   "source": [
    "l = {\"Date\":list_date, \"Hour\":list_hour,\"Tweet\":tweet, \"Language\": lang,\"Location\":location}\n",
    "df = pd.DataFrame(l)\n",
    "df.head()"
   ]
  },
  {
   "cell_type": "code",
   "execution_count": 148,
   "metadata": {},
   "outputs": [
    {
     "name": "stderr",
     "output_type": "stream",
     "text": [
      "C:\\Users\\Raouf\\AppData\\Local\\Continuum\\anaconda3\\lib\\site-packages\\ipykernel_launcher.py:1: ParserWarning: Falling back to the 'python' engine because the 'c' engine does not support regex separators (separators > 1 char and different from '\\s+' are interpreted as regex); you can avoid this warning by specifying engine='python'.\n",
      "  \"\"\"Entry point for launching an IPython kernel.\n"
     ]
    }
   ],
   "source": [
    "worldcup_csv_file = pd.read_csv(\"worldcup2018_2.csv\", sep='::', header = None, encoding= 'utf-8')"
   ]
  },
  {
   "cell_type": "code",
   "execution_count": 150,
   "metadata": {},
   "outputs": [
    {
     "data": {
      "text/html": [
       "<div>\n",
       "<style scoped>\n",
       "    .dataframe tbody tr th:only-of-type {\n",
       "        vertical-align: middle;\n",
       "    }\n",
       "\n",
       "    .dataframe tbody tr th {\n",
       "        vertical-align: top;\n",
       "    }\n",
       "\n",
       "    .dataframe thead th {\n",
       "        text-align: right;\n",
       "    }\n",
       "</style>\n",
       "<table border=\"1\" class=\"dataframe\">\n",
       "  <thead>\n",
       "    <tr style=\"text-align: right;\">\n",
       "      <th></th>\n",
       "      <th>0</th>\n",
       "      <th>1</th>\n",
       "      <th>2</th>\n",
       "      <th>3</th>\n",
       "    </tr>\n",
       "  </thead>\n",
       "  <tbody>\n",
       "    <tr>\n",
       "      <th>0</th>\n",
       "      <td>1.527518e+09</td>\n",
       "      <td>RT @GrantWahl: Good story by @silajmat of La N...</td>\n",
       "      <td>en</td>\n",
       "      <td>NYC, Planet F\\u00fatbol</td>\n",
       "    </tr>\n",
       "    <tr>\n",
       "      <th>1</th>\n",
       "      <td>1.527518e+09</td>\n",
       "      <td>RT @WeAreMessi: Sergio Aguero and Lionel Messi...</td>\n",
       "      <td>vi</td>\n",
       "      <td>H\\u01b0ng Y\\u00ean, Vietnam</td>\n",
       "    </tr>\n",
       "    <tr>\n",
       "      <th>2</th>\n",
       "      <td>1.527518e+09</td>\n",
       "      <td>RT @EdwinAsante6: \\ud83c\\udde6\\ud83c\\uddf7Arge...</td>\n",
       "      <td>en</td>\n",
       "      <td>Accra, Ghana</td>\n",
       "    </tr>\n",
       "    <tr>\n",
       "      <th>3</th>\n",
       "      <td>1.527518e+09</td>\n",
       "      <td>RT @tushizap: As #Iran has shown, the line bet...</td>\n",
       "      <td>en</td>\n",
       "      <td>Bangalore</td>\n",
       "    </tr>\n",
       "    <tr>\n",
       "      <th>4</th>\n",
       "      <td>1.527518e+09</td>\n",
       "      <td>RT @NashaCanada: \\u041c\\u044b \\u043f\\u0440\\u04...</td>\n",
       "      <td>ru</td>\n",
       "      <td>Toronto, Canada</td>\n",
       "    </tr>\n",
       "    <tr>\n",
       "      <th>5</th>\n",
       "      <td>1.527518e+09</td>\n",
       "      <td>RT @axelwitsel28: Let's get to work \\ud83d\\udc...</td>\n",
       "      <td>nl</td>\n",
       "      <td>Leuven, Belgi\\u00eb</td>\n",
       "    </tr>\n",
       "    <tr>\n",
       "      <th>6</th>\n",
       "      <td>1.527518e+09</td>\n",
       "      <td>RT @NashaCanada: \\u041c\\u044b \\u043f\\u0440\\u04...</td>\n",
       "      <td>ru</td>\n",
       "      <td>Toronto, Canada</td>\n",
       "    </tr>\n",
       "    <tr>\n",
       "      <th>7</th>\n",
       "      <td>1.527518e+09</td>\n",
       "      <td>RT @axelwitsel28: Let's get to work \\ud83d\\udc...</td>\n",
       "      <td>fr</td>\n",
       "      <td>Paris, France</td>\n",
       "    </tr>\n",
       "    <tr>\n",
       "      <th>8</th>\n",
       "      <td>1.527518e+09</td>\n",
       "      <td>RT @EdgDayday: FIFA Official Anthem World Cup ...</td>\n",
       "      <td>fr</td>\n",
       "      <td>Fr\\u00e9vent, France</td>\n",
       "    </tr>\n",
       "    <tr>\n",
       "      <th>9</th>\n",
       "      <td>1.527518e+09</td>\n",
       "      <td>.@Astro_Alex hat das Zeug zum Gl\\u00fccksbring...</td>\n",
       "      <td>de</td>\n",
       "      <td>Berlin</td>\n",
       "    </tr>\n",
       "  </tbody>\n",
       "</table>\n",
       "</div>"
      ],
      "text/plain": [
       "              0                                                  1   2  \\\n",
       "0  1.527518e+09  RT @GrantWahl: Good story by @silajmat of La N...  en   \n",
       "1  1.527518e+09  RT @WeAreMessi: Sergio Aguero and Lionel Messi...  vi   \n",
       "2  1.527518e+09  RT @EdwinAsante6: \\ud83c\\udde6\\ud83c\\uddf7Arge...  en   \n",
       "3  1.527518e+09  RT @tushizap: As #Iran has shown, the line bet...  en   \n",
       "4  1.527518e+09  RT @NashaCanada: \\u041c\\u044b \\u043f\\u0440\\u04...  ru   \n",
       "5  1.527518e+09  RT @axelwitsel28: Let's get to work \\ud83d\\udc...  nl   \n",
       "6  1.527518e+09  RT @NashaCanada: \\u041c\\u044b \\u043f\\u0440\\u04...  ru   \n",
       "7  1.527518e+09  RT @axelwitsel28: Let's get to work \\ud83d\\udc...  fr   \n",
       "8  1.527518e+09  RT @EdgDayday: FIFA Official Anthem World Cup ...  fr   \n",
       "9  1.527518e+09  .@Astro_Alex hat das Zeug zum Gl\\u00fccksbring...  de   \n",
       "\n",
       "                             3  \n",
       "0      NYC, Planet F\\u00fatbol  \n",
       "1  H\\u01b0ng Y\\u00ean, Vietnam  \n",
       "2                 Accra, Ghana  \n",
       "3                    Bangalore  \n",
       "4              Toronto, Canada  \n",
       "5          Leuven, Belgi\\u00eb  \n",
       "6              Toronto, Canada  \n",
       "7                Paris, France  \n",
       "8         Fr\\u00e9vent, France  \n",
       "9                       Berlin  "
      ]
     },
     "execution_count": 150,
     "metadata": {},
     "output_type": "execute_result"
    }
   ],
   "source": [
    "worldcup_csv_file"
   ]
  }
 ],
 "metadata": {
  "kernelspec": {
   "display_name": "Python 3",
   "language": "python",
   "name": "python3"
  },
  "language_info": {
   "codemirror_mode": {
    "name": "ipython",
    "version": 3
   },
   "file_extension": ".py",
   "mimetype": "text/x-python",
   "name": "python",
   "nbconvert_exporter": "python",
   "pygments_lexer": "ipython3",
   "version": "3.6.4"
  }
 },
 "nbformat": 4,
 "nbformat_minor": 2
}
